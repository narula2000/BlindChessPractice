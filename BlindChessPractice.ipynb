{
 "cells": [
  {
   "cell_type": "code",
   "execution_count": 2,
   "metadata": {
    "ExecuteTime": {
     "end_time": "2021-03-11T02:25:27.996407Z",
     "start_time": "2021-03-11T02:25:27.984328Z"
    }
   },
   "outputs": [],
   "source": [
    "import json\n",
    "import random\n",
    "\n",
    "ranks = ['a', 'b', 'c', 'd', 'e', 'f', 'g', 'h']\n",
    "files = ['1', '2', '3', '4', '5', '6', '7', '8']\n",
    "colors = [['Black', 'black', 'b', 'B'], ['White', 'white', 'w', 'W']]"
   ]
  },
  {
   "cell_type": "markdown",
   "metadata": {},
   "source": [
    "# Blind Chess Practice\n",
    "\n",
    "This was created on the 10th March 2020 for Vikrom Narula to practice blind chess.\n",
    "\n",
    "## Remember Board Position Colors"
   ]
  },
  {
   "cell_type": "code",
   "execution_count": 3,
   "metadata": {
    "ExecuteTime": {
     "end_time": "2021-03-11T02:25:28.586354Z",
     "start_time": "2021-03-11T02:25:28.550815Z"
    }
   },
   "outputs": [],
   "source": [
    "def isEven(num):\n",
    "    return num % 2 == 0\n",
    "\n",
    "\n",
    "def showAllPositionAsMap():\n",
    "    dictString = \"\"\n",
    "    dictString += '{\\n'\n",
    "    for idy, file in enumerate(files):\n",
    "        for idx, rank in enumerate(ranks):\n",
    "            if (isEven(idx)):\n",
    "                if (isEven(idy)):\n",
    "                    dictString += f' \"{rank}{file}\":\"{colors[0]}\",'\n",
    "                else:\n",
    "                    dictString += f' \"{rank}{file}\":\"{colors[1]}\",'\n",
    "            else:\n",
    "                if (isEven(idy)):\n",
    "                    dictString += f' \"{rank}{file}\":\"{colors[1]}\",'\n",
    "                else:\n",
    "                    dictString += f' \"{rank}{file}\":\"{colors[0]}\",'\n",
    "    dictString = dictString[:-1]  # Remove last comma\n",
    "    dictString += '\\n}'\n",
    "    return dictString"
   ]
  },
  {
   "cell_type": "code",
   "execution_count": 67,
   "metadata": {
    "ExecuteTime": {
     "end_time": "2021-03-11T04:11:26.346962Z",
     "start_time": "2021-03-11T04:11:26.338578Z"
    }
   },
   "outputs": [],
   "source": [
    "mapping = json.loads(showAllPositionAsMap())"
   ]
  },
  {
   "cell_type": "code",
   "execution_count": 5,
   "metadata": {
    "ExecuteTime": {
     "end_time": "2021-03-11T02:25:29.217049Z",
     "start_time": "2021-03-11T02:25:29.195727Z"
    }
   },
   "outputs": [],
   "source": [
    "def guessColor():\n",
    "    exits = ['exit', 'dc', 'Exit']\n",
    "    print('\\n===========Guess the Color==============')\n",
    "    position = random.choice(list(mapping.keys()))\n",
    "    guess = input(f'What color is the position {position}? \\n \\n => ')\n",
    "    if guess in exits:\n",
    "        print('\\nExisting...')\n",
    "        print('========================================')\n",
    "        return\n",
    "    if len(guess) == 5 or len(guess) == 1:\n",
    "        if guess in mapping[position]:\n",
    "            print(\"\\nCorrect Guess!!! Let's see if you get another one!\")\n",
    "            guessColor()\n",
    "        else:\n",
    "            print(\"\\nWrong Guess!!! Let's try again.\")\n",
    "            guessColor()\n",
    "    else:\n",
    "        print('Bad Data!!!')\n",
    "        guessColor()"
   ]
  },
  {
   "cell_type": "code",
   "execution_count": 60,
   "metadata": {
    "ExecuteTime": {
     "end_time": "2021-03-11T04:09:27.715133Z",
     "start_time": "2021-03-11T04:09:05.301365Z"
    }
   },
   "outputs": [
    {
     "name": "stdout",
     "output_type": "stream",
     "text": [
      "\n",
      "===========Guess the Color==============\n",
      "What color is the position g4? \n",
      " \n",
      " => b\n",
      "\n",
      "Wrong Guess!!! Let's try again.\n",
      "\n",
      "===========Guess the Color==============\n",
      "What color is the position e3? \n",
      " \n",
      " => w\n",
      "\n",
      "Wrong Guess!!! Let's try again.\n",
      "\n",
      "===========Guess the Color==============\n",
      "What color is the position e3? \n",
      " \n",
      " => b\n",
      "\n",
      "Correct Guess!!! Let's see if you get another one!\n",
      "\n",
      "===========Guess the Color==============\n",
      "What color is the position g7? \n",
      " \n",
      " => Black\n",
      "\n",
      "Correct Guess!!! Let's see if you get another one!\n",
      "\n",
      "===========Guess the Color==============\n",
      "What color is the position e2? \n",
      " \n",
      " => dc\n",
      "\n",
      "Existing...\n",
      "========================================\n"
     ]
    }
   ],
   "source": [
    "guessColor()"
   ]
  },
  {
   "cell_type": "markdown",
   "metadata": {},
   "source": [
    "## Remember Board Position"
   ]
  },
  {
   "cell_type": "code",
   "execution_count": 61,
   "metadata": {
    "ExecuteTime": {
     "end_time": "2021-03-11T04:09:31.418280Z",
     "start_time": "2021-03-11T04:09:31.387505Z"
    }
   },
   "outputs": [],
   "source": [
    "def guessPosition():\n",
    "    exits = ['exit', 'dc', 'Exit']\n",
    "    board = [['0', '0', '0', '0', '0', '0', '0', '0'],\n",
    "             ['0', '0', '0', '0', '0', '0', '0', '0'],\n",
    "             ['0', '0', '0', '0', '0', '0', '0', '0'],\n",
    "             ['0', '0', '0', '0', '0', '0', '0', '0'],\n",
    "             ['0', '0', '0', '0', '0', '0', '0', '0'],\n",
    "             ['0', '0', '0', '0', '0', '0', '0', '0'],\n",
    "             ['0', '0', '0', '0', '0', '0', '0', '0'],\n",
    "             ['0', '0', '0', '0', '0', '0', '0', '0']]\n",
    "    randFile = random.randrange(len(board))\n",
    "    randRank = random.randrange(len(board))\n",
    "    board[randFile][randRank] = 'X'\n",
    "    flipFiles = files[::-1]\n",
    "    print('\\n===========Guess the Position==============')\n",
    "    print(f'What position is X on the board?\\n')\n",
    "    print(*board, sep='\\n')\n",
    "    guess = input('\\n => ')\n",
    "    answer = ranks[randRank] + flipFiles[randFile]\n",
    "    if guess in exits:\n",
    "        print('\\nExisting...')\n",
    "        print('============================================')\n",
    "        return\n",
    "    if len(guess) == 2 and guess[0] in ranks and guess[1] in files:\n",
    "        if guess == answer:\n",
    "            print(\"\\nCorrect Guess!!! Let's see if you get another one!\")\n",
    "            guessPosition()\n",
    "        else:\n",
    "            print(f\"\\nWrong Guess!!! Answer was {answer}. Let's try again.\")\n",
    "            guessPosition()\n",
    "    else:\n",
    "        print('Bad Data!!!')\n",
    "        guessPosition()"
   ]
  },
  {
   "cell_type": "code",
   "execution_count": 62,
   "metadata": {
    "ExecuteTime": {
     "end_time": "2021-03-11T04:09:56.514717Z",
     "start_time": "2021-03-11T04:09:32.067454Z"
    }
   },
   "outputs": [
    {
     "name": "stdout",
     "output_type": "stream",
     "text": [
      "\n",
      "===========Guess the Position==============\n",
      "What position is X on the board?\n",
      "\n",
      "['X', '0', '0', '0', '0', '0', '0', '0']\n",
      "['0', '0', '0', '0', '0', '0', '0', '0']\n",
      "['0', '0', '0', '0', '0', '0', '0', '0']\n",
      "['0', '0', '0', '0', '0', '0', '0', '0']\n",
      "['0', '0', '0', '0', '0', '0', '0', '0']\n",
      "['0', '0', '0', '0', '0', '0', '0', '0']\n",
      "['0', '0', '0', '0', '0', '0', '0', '0']\n",
      "['0', '0', '0', '0', '0', '0', '0', '0']\n",
      "\n",
      " => a8\n",
      "\n",
      "Correct Guess!!! Let's see if you get another one!\n",
      "\n",
      "===========Guess the Position==============\n",
      "What position is X on the board?\n",
      "\n",
      "['0', '0', '0', '0', '0', '0', '0', '0']\n",
      "['0', '0', '0', '0', '0', '0', '0', '0']\n",
      "['0', '0', '0', '0', 'X', '0', '0', '0']\n",
      "['0', '0', '0', '0', '0', '0', '0', '0']\n",
      "['0', '0', '0', '0', '0', '0', '0', '0']\n",
      "['0', '0', '0', '0', '0', '0', '0', '0']\n",
      "['0', '0', '0', '0', '0', '0', '0', '0']\n",
      "['0', '0', '0', '0', '0', '0', '0', '0']\n",
      "\n",
      " => e6\n",
      "\n",
      "Correct Guess!!! Let's see if you get another one!\n",
      "\n",
      "===========Guess the Position==============\n",
      "What position is X on the board?\n",
      "\n",
      "['0', '0', '0', '0', '0', '0', '0', 'X']\n",
      "['0', '0', '0', '0', '0', '0', '0', '0']\n",
      "['0', '0', '0', '0', '0', '0', '0', '0']\n",
      "['0', '0', '0', '0', '0', '0', '0', '0']\n",
      "['0', '0', '0', '0', '0', '0', '0', '0']\n",
      "['0', '0', '0', '0', '0', '0', '0', '0']\n",
      "['0', '0', '0', '0', '0', '0', '0', '0']\n",
      "['0', '0', '0', '0', '0', '0', '0', '0']\n",
      "\n",
      " => a1\n",
      "\n",
      "Wrong Guess!!! Answer was h8. Let's try again.\n",
      "\n",
      "===========Guess the Position==============\n",
      "What position is X on the board?\n",
      "\n",
      "['0', '0', '0', '0', '0', '0', '0', '0']\n",
      "['0', '0', '0', '0', '0', '0', '0', '0']\n",
      "['0', '0', '0', '0', '0', '0', '0', '0']\n",
      "['0', '0', '0', 'X', '0', '0', '0', '0']\n",
      "['0', '0', '0', '0', '0', '0', '0', '0']\n",
      "['0', '0', '0', '0', '0', '0', '0', '0']\n",
      "['0', '0', '0', '0', '0', '0', '0', '0']\n",
      "['0', '0', '0', '0', '0', '0', '0', '0']\n",
      "\n",
      " => dc\n",
      "\n",
      "Existing...\n",
      "============================================\n"
     ]
    }
   ],
   "source": [
    "guessPosition()"
   ]
  },
  {
   "cell_type": "markdown",
   "metadata": {},
   "source": [
    "## Remember Moves of Regular Pieces"
   ]
  },
  {
   "cell_type": "code",
   "execution_count": 63,
   "metadata": {
    "ExecuteTime": {
     "end_time": "2021-03-11T04:09:59.293148Z",
     "start_time": "2021-03-11T04:09:59.256520Z"
    }
   },
   "outputs": [],
   "source": [
    "def kingMoves(pos):\n",
    "    moves = []\n",
    "    rank = pos[0]\n",
    "    file = pos[1]\n",
    "    rankIdx = ranks.index(rank)\n",
    "    fileIdx = files.index(file)\n",
    "    if file == '1' and rank == 'a':\n",
    "        possibleRanks = [ranks[rankIdx], ranks[rankIdx + 1]]\n",
    "        possibleFiles = [files[fileIdx + 1], files[fileIdx]]\n",
    "    elif file == '1' and rank == 'h':\n",
    "        possibleRanks = [ranks[rankIdx - 1], ranks[rankIdx]]\n",
    "        possibleFiles = [files[fileIdx + 1], files[fileIdx]]\n",
    "    elif file == '8' and rank == 'a':\n",
    "        possibleRanks = [ranks[rankIdx], ranks[rankIdx + 1]]\n",
    "        possibleFiles = [files[fileIdx], files[fileIdx - 1]]\n",
    "    elif file == '8' and rank == 'h':\n",
    "        possibleRanks = [ranks[rankIdx - 1], ranks[rankIdx]]\n",
    "        possibleFiles = [files[fileIdx], files[fileIdx - 1]]\n",
    "    elif file == '1' and rank == 'a':\n",
    "        possibleRanks = [ranks[rankIdx], ranks[rankIdx + 1]]\n",
    "        possibleFiles = [files[fileIdx + 1], files[fileIdx]]\n",
    "    elif file == '1':\n",
    "        possibleRanks = [ranks[rankIdx - 1],\n",
    "                         ranks[rankIdx], ranks[rankIdx + 1]]\n",
    "        possibleFiles = [files[fileIdx + 1], files[fileIdx]]\n",
    "    elif file == '8':\n",
    "        possibleRanks = [ranks[rankIdx - 1],\n",
    "                         ranks[rankIdx], ranks[rankIdx + 1]]\n",
    "        possibleFiles = [files[fileIdx], files[fileIdx - 1]]\n",
    "    elif rank == 'a':\n",
    "        possibleRanks = [ranks[rankIdx], ranks[rankIdx + 1]]\n",
    "        possibleFiles = [files[fileIdx + 1],\n",
    "                         files[fileIdx], files[fileIdx - 1]]\n",
    "    elif rank == 'h':\n",
    "        possibleRanks = [ranks[rankIdx + 1], ranks[rankIdx]]\n",
    "        possibleFiles = [files[fileIdx + 1],\n",
    "                         files[fileIdx], files[fileIdx - 1]]\n",
    "    else:\n",
    "        possibleRanks = [ranks[rankIdx - 1],\n",
    "                         ranks[rankIdx], ranks[rankIdx + 1]]\n",
    "        possibleFiles = [files[fileIdx + 1],\n",
    "                         files[fileIdx], files[fileIdx - 1]]\n",
    "    for possibleFile in possibleFiles:\n",
    "        for possibleRank in possibleRanks:\n",
    "            moves.append(possibleRank + possibleFile)\n",
    "    moves.remove(pos)  # Remove current position\n",
    "    return moves"
   ]
  },
  {
   "cell_type": "code",
   "execution_count": 64,
   "metadata": {
    "ExecuteTime": {
     "end_time": "2021-03-11T04:09:59.916419Z",
     "start_time": "2021-03-11T04:09:59.899005Z"
    }
   },
   "outputs": [],
   "source": [
    "def moves():\n",
    "    pieces = ['King', 'Queen', 'Bishop', 'Rook']\n",
    "#     randPiece = random.choice(pieces)\n",
    "    randFile = random.choice(files)\n",
    "    randRank = random.choice(ranks)\n",
    "    randPosition = randRank + randFile\n",
    "    print(f'Where can {pieces[0]} go when its in position {randPosition}')\n",
    "    print(f' \\n => {kingMoves(randPosition)}')"
   ]
  },
  {
   "cell_type": "code",
   "execution_count": 65,
   "metadata": {
    "ExecuteTime": {
     "end_time": "2021-03-11T04:10:00.533641Z",
     "start_time": "2021-03-11T04:10:00.522539Z"
    }
   },
   "outputs": [
    {
     "name": "stdout",
     "output_type": "stream",
     "text": [
      "Where can King go when its in position c7\n",
      " \n",
      " => ['b8', 'c8', 'd8', 'b7', 'd7', 'b6', 'c6', 'd6']\n"
     ]
    }
   ],
   "source": [
    "moves()"
   ]
  },
  {
   "cell_type": "code",
   "execution_count": null,
   "metadata": {},
   "outputs": [],
   "source": []
  }
 ],
 "metadata": {
  "kernelspec": {
   "display_name": "Python 3",
   "language": "python",
   "name": "python3"
  },
  "language_info": {
   "codemirror_mode": {
    "name": "ipython",
    "version": 3
   },
   "file_extension": ".py",
   "mimetype": "text/x-python",
   "name": "python",
   "nbconvert_exporter": "python",
   "pygments_lexer": "ipython3",
   "version": "3.8.6"
  },
  "toc": {
   "base_numbering": 1,
   "nav_menu": {},
   "number_sections": true,
   "sideBar": true,
   "skip_h1_title": false,
   "title_cell": "Table of Contents",
   "title_sidebar": "Contents",
   "toc_cell": false,
   "toc_position": {},
   "toc_section_display": true,
   "toc_window_display": false
  },
  "varInspector": {
   "cols": {
    "lenName": 16,
    "lenType": 16,
    "lenVar": 40
   },
   "kernels_config": {
    "python": {
     "delete_cmd_postfix": "",
     "delete_cmd_prefix": "del ",
     "library": "var_list.py",
     "varRefreshCmd": "print(var_dic_list())"
    },
    "r": {
     "delete_cmd_postfix": ") ",
     "delete_cmd_prefix": "rm(",
     "library": "var_list.r",
     "varRefreshCmd": "cat(var_dic_list()) "
    }
   },
   "types_to_exclude": [
    "module",
    "function",
    "builtin_function_or_method",
    "instance",
    "_Feature"
   ],
   "window_display": false
  }
 },
 "nbformat": 4,
 "nbformat_minor": 4
}
