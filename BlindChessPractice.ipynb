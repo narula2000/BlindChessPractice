{
 "cells": [
  {
   "cell_type": "code",
   "execution_count": 2,
   "metadata": {
    "ExecuteTime": {
     "end_time": "2021-03-11T02:25:27.996407Z",
     "start_time": "2021-03-11T02:25:27.984328Z"
    }
   },
   "outputs": [],
   "source": [
    "import json\n",
    "import random\n",
    "\n",
    "ranks = ['a', 'b', 'c', 'd', 'e', 'f', 'g', 'h']\n",
    "files = ['1', '2', '3', '4', '5', '6', '7', '8']\n",
    "colors = [['Black', 'black', 'b', 'B'], ['White', 'white', 'w', 'W']]"
   ]
  },
  {
   "cell_type": "markdown",
   "metadata": {},
   "source": [
    "# Blind Chess Practice\n",
    "\n",
    "This was created on the 10th March 2020 for Vikrom Narula to practice blind chess.\n",
    "\n",
    "## Remember Board Position Colors"
   ]
  },
  {
   "cell_type": "code",
   "execution_count": 3,
   "metadata": {
    "ExecuteTime": {
     "end_time": "2021-03-11T02:25:28.586354Z",
     "start_time": "2021-03-11T02:25:28.550815Z"
    }
   },
   "outputs": [],
   "source": [
    "def isEven(num):\n",
    "    return num % 2 == 0\n",
    "\n",
    "\n",
    "def showAllPositionAsMap():\n",
    "    dictString = \"\"\n",
    "    dictString += '{\\n'\n",
    "    for idy, file in enumerate(files):\n",
    "        for idx, rank in enumerate(ranks):\n",
    "            if (isEven(idx)):\n",
    "                if (isEven(idy)):\n",
    "                    dictString += f' \"{rank}{file}\":\"{colors[0]}\",'\n",
    "                else:\n",
    "                    dictString += f' \"{rank}{file}\":\"{colors[1]}\",'\n",
    "            else:\n",
    "                if (isEven(idy)):\n",
    "                    dictString += f' \"{rank}{file}\":\"{colors[1]}\",'\n",
    "                else:\n",
    "                    dictString += f' \"{rank}{file}\":\"{colors[0]}\",'\n",
    "    dictString = dictString[:-1]  # Remove last comma\n",
    "    dictString += '\\n}'\n",
    "    return dictString"
   ]
  },
  {
   "cell_type": "code",
   "execution_count": 4,
   "metadata": {
    "ExecuteTime": {
     "end_time": "2021-03-11T02:25:28.902490Z",
     "start_time": "2021-03-11T02:25:28.885300Z"
    }
   },
   "outputs": [],
   "source": [
    "mapping = json.loads(showAllPositionAsMap())"
   ]
  },
  {
   "cell_type": "code",
   "execution_count": 5,
   "metadata": {
    "ExecuteTime": {
     "end_time": "2021-03-11T02:25:29.217049Z",
     "start_time": "2021-03-11T02:25:29.195727Z"
    }
   },
   "outputs": [],
   "source": [
    "def guessColor():\n",
    "    exits = ['exit', 'dc', 'Exit']\n",
    "    print('\\n===========Guess the Color==============')\n",
    "    position = random.choice(list(mapping.keys()))\n",
    "    guess = input(f'What color is the position {position}? \\n \\n => ')\n",
    "    if guess in exits:\n",
    "        print('\\nExisting...')\n",
    "        print('========================================')\n",
    "        return\n",
    "    if len(guess) == 5 or len(guess) == 1:\n",
    "        if guess in mapping[position]:\n",
    "            print(\"\\nCorrect Guess!!! Let's see if you get another one!\")\n",
    "            guessColor()\n",
    "        else:\n",
    "            print(\"\\nWrong Guess!!! Let's try again.\")\n",
    "            guessColor()\n",
    "    else:\n",
    "        print('Bad Data!!!')\n",
    "        guessColor()"
   ]
  },
  {
   "cell_type": "code",
   "execution_count": 6,
   "metadata": {
    "ExecuteTime": {
     "end_time": "2021-03-11T02:25:31.797663Z",
     "start_time": "2021-03-11T02:25:29.558145Z"
    }
   },
   "outputs": [
    {
     "name": "stdout",
     "output_type": "stream",
     "text": [
      "\n",
      "===========Guess the Color==============\n",
      "What color is the position b7? \n",
      " \n",
      " => \n",
      "Bad Data!!!\n",
      "\n",
      "===========Guess the Color==============\n",
      "What color is the position e3? \n",
      " \n",
      " => dc\n",
      "\n",
      "Existing...\n",
      "========================================\n"
     ]
    }
   ],
   "source": [
    "guessColor()"
   ]
  },
  {
   "cell_type": "markdown",
   "metadata": {},
   "source": [
    "## Remember Board Position"
   ]
  },
  {
   "cell_type": "code",
   "execution_count": 7,
   "metadata": {
    "ExecuteTime": {
     "end_time": "2021-03-11T02:25:32.915885Z",
     "start_time": "2021-03-11T02:25:32.891319Z"
    }
   },
   "outputs": [],
   "source": [
    "def guessPosition():\n",
    "    exits = ['exit', 'dc', 'Exit']\n",
    "    board = [['0', '0', '0', '0', '0', '0', '0', '0'],\n",
    "             ['0', '0', '0', '0', '0', '0', '0', '0'],\n",
    "             ['0', '0', '0', '0', '0', '0', '0', '0'],\n",
    "             ['0', '0', '0', '0', '0', '0', '0', '0'],\n",
    "             ['0', '0', '0', '0', '0', '0', '0', '0'],\n",
    "             ['0', '0', '0', '0', '0', '0', '0', '0'],\n",
    "             ['0', '0', '0', '0', '0', '0', '0', '0'],\n",
    "             ['0', '0', '0', '0', '0', '0', '0', '0']]\n",
    "    randFile = random.randrange(len(board))\n",
    "    randRank = random.randrange(len(board))\n",
    "    board[randFile][randRank] = 'X'\n",
    "    flipFiles = files[::-1]\n",
    "    print('\\n===========Guess the Position==============')\n",
    "    print(f'What position is X on the board?\\n')\n",
    "    print(*board, sep='\\n')\n",
    "    guess = input('\\n => ')\n",
    "    answer = ranks[randRank] + flipFiles[randFile]\n",
    "    if guess in exits:\n",
    "        print('\\nExisting...')\n",
    "        print('============================================')\n",
    "        return\n",
    "    if len(guess) == 2 and guess[0] in ranks and guess[1] in files:\n",
    "        if guess == answer:\n",
    "            print(\"\\nCorrect Guess!!! Let's see if you get another one!\")\n",
    "            guessPosition()\n",
    "        else:\n",
    "            print(f\"\\nWrong Guess!!! Answer was {answer}. Let's try again.\")\n",
    "            guessPosition()\n",
    "    else:\n",
    "        print('Bad Data!!!')\n",
    "        guessPosition()"
   ]
  },
  {
   "cell_type": "code",
   "execution_count": 8,
   "metadata": {
    "ExecuteTime": {
     "end_time": "2021-03-11T02:25:34.613555Z",
     "start_time": "2021-03-11T02:25:33.770184Z"
    }
   },
   "outputs": [
    {
     "name": "stdout",
     "output_type": "stream",
     "text": [
      "\n",
      "===========Guess the Position==============\n",
      "What position is X on the board?\n",
      "\n",
      "['0', '0', '0', '0', '0', '0', '0', '0']\n",
      "['0', '0', '0', '0', '0', '0', '0', '0']\n",
      "['0', '0', '0', '0', '0', '0', '0', '0']\n",
      "['0', '0', '0', '0', '0', '0', '0', '0']\n",
      "['0', '0', '0', 'X', '0', '0', '0', '0']\n",
      "['0', '0', '0', '0', '0', '0', '0', '0']\n",
      "['0', '0', '0', '0', '0', '0', '0', '0']\n",
      "['0', '0', '0', '0', '0', '0', '0', '0']\n",
      "\n",
      " => dc\n",
      "\n",
      "Existing...\n",
      "============================================\n"
     ]
    }
   ],
   "source": [
    "guessPosition()"
   ]
  },
  {
   "cell_type": "markdown",
   "metadata": {},
   "source": [
    "## Remember Moves of Regular Pieces"
   ]
  },
  {
   "cell_type": "code",
   "execution_count": 56,
   "metadata": {
    "ExecuteTime": {
     "end_time": "2021-03-11T03:39:00.817938Z",
     "start_time": "2021-03-11T03:39:00.780611Z"
    }
   },
   "outputs": [],
   "source": [
    "def kingMoves(pos):\n",
    "    moves = []\n",
    "    rank = pos[0]\n",
    "    file = pos[1]\n",
    "    rankIdx = ranks.index(rank)\n",
    "    fileIdx = files.index(file)\n",
    "    if file == '1' and rank == 'a':\n",
    "        possibleRanks = [ranks[rankIdx], ranks[rankIdx + 1]]\n",
    "        possibleFiles = [files[fileIdx + 1], files[fileIdx]]\n",
    "    elif file == '1' and rank == 'h':\n",
    "        possibleRanks = [ranks[rankIdx - 1], ranks[rankIdx]]\n",
    "        possibleFiles = [files[fileIdx + 1], files[fileIdx]]\n",
    "    elif file == '8' and rank == 'a':\n",
    "        possibleRanks = [ranks[rankIdx], ranks[rankIdx + 1]]\n",
    "        possibleFiles = [files[fileIdx], files[fileIdx - 1]]\n",
    "    elif file == '8' and rank == 'h':\n",
    "        possibleRanks = [ranks[rankIdx - 1], ranks[rankIdx]]\n",
    "        possibleFiles = [files[fileIdx], files[fileIdx - 1]]\n",
    "    elif file == '1' and rank == 'a':\n",
    "        possibleRanks = [ranks[rankIdx], ranks[rankIdx + 1]]\n",
    "        possibleFiles = [files[fileIdx + 1], files[fileIdx]]\n",
    "    elif file == '1':\n",
    "        possibleRanks = [ranks[rankIdx - 1],\n",
    "                         ranks[rankIdx], ranks[rankIdx + 1]]\n",
    "        possibleFiles = [files[fileIdx + 1], files[fileIdx]]\n",
    "    elif file == '8':\n",
    "        possibleRanks = [ranks[rankIdx - 1],\n",
    "                         ranks[rankIdx], ranks[rankIdx + 1]]\n",
    "        possibleFiles = [files[fileIdx], files[fileIdx - 1]]\n",
    "    elif rank == 'a':\n",
    "        possibleRanks = [ranks[rankIdx], ranks[rankIdx + 1]]\n",
    "        possibleFiles = [files[fileIdx + 1],\n",
    "                         files[fileIdx], files[fileIdx - 1]]\n",
    "    elif rank == 'h':\n",
    "        possibleRanks = [ranks[rankIdx + 1], ranks[rankIdx]]\n",
    "        possibleFiles = [files[fileIdx + 1],\n",
    "                         files[fileIdx], files[fileIdx - 1]]\n",
    "    else:\n",
    "        possibleRanks = [ranks[rankIdx - 1],\n",
    "                         ranks[rankIdx], ranks[rankIdx + 1]]\n",
    "        possibleFiles = [files[fileIdx + 1],\n",
    "                         files[fileIdx], files[fileIdx - 1]]\n",
    "    for idy, possibleFile in enumerate(possibleFiles):\n",
    "        for idx, possibleRank in enumerate(possibleRanks):\n",
    "            moves.append(possibleRank + possibleFile)\n",
    "    moves.remove(pos)  # Remove current position\n",
    "    return moves\n",
    "\n",
    "def pawnMoves()"
   ]
  },
  {
   "cell_type": "code",
   "execution_count": 57,
   "metadata": {
    "ExecuteTime": {
     "end_time": "2021-03-11T03:39:16.518139Z",
     "start_time": "2021-03-11T03:39:16.504034Z"
    }
   },
   "outputs": [],
   "source": [
    "def moves():\n",
    "    pieces = ['King', 'Queen', 'Bishop', 'Rook', 'Pawn']\n",
    "#     randPiece = random.choice(pieces)\n",
    "    randFile = random.choice(files)\n",
    "    randRank = random.choice(ranks)\n",
    "    randPosition = randRank + randFile\n",
    "    print(f'Where can {pieces[0]} go when its in position {randPosition}')\n",
    "    print(f' \\n => {kingMoves(randPosition)}')"
   ]
  },
  {
   "cell_type": "code",
   "execution_count": 59,
   "metadata": {
    "ExecuteTime": {
     "end_time": "2021-03-11T03:39:25.512221Z",
     "start_time": "2021-03-11T03:39:25.500854Z"
    }
   },
   "outputs": [
    {
     "name": "stdout",
     "output_type": "stream",
     "text": [
      "Where can King go when its in position f7\n",
      " \n",
      " => ['e8', 'f8', 'g8', 'e7', 'g7', 'e6', 'f6', 'g6']\n"
     ]
    }
   ],
   "source": [
    "moves()"
   ]
  }
 ],
 "metadata": {
  "kernelspec": {
   "display_name": "Python 3",
   "language": "python",
   "name": "python3"
  },
  "language_info": {
   "codemirror_mode": {
    "name": "ipython",
    "version": 3
   },
   "file_extension": ".py",
   "mimetype": "text/x-python",
   "name": "python",
   "nbconvert_exporter": "python",
   "pygments_lexer": "ipython3",
   "version": "3.8.6"
  },
  "toc": {
   "base_numbering": 1,
   "nav_menu": {},
   "number_sections": true,
   "sideBar": true,
   "skip_h1_title": false,
   "title_cell": "Table of Contents",
   "title_sidebar": "Contents",
   "toc_cell": false,
   "toc_position": {},
   "toc_section_display": true,
   "toc_window_display": false
  },
  "varInspector": {
   "cols": {
    "lenName": 16,
    "lenType": 16,
    "lenVar": 40
   },
   "kernels_config": {
    "python": {
     "delete_cmd_postfix": "",
     "delete_cmd_prefix": "del ",
     "library": "var_list.py",
     "varRefreshCmd": "print(var_dic_list())"
    },
    "r": {
     "delete_cmd_postfix": ") ",
     "delete_cmd_prefix": "rm(",
     "library": "var_list.r",
     "varRefreshCmd": "cat(var_dic_list()) "
    }
   },
   "types_to_exclude": [
    "module",
    "function",
    "builtin_function_or_method",
    "instance",
    "_Feature"
   ],
   "window_display": false
  }
 },
 "nbformat": 4,
 "nbformat_minor": 4
}
