{
 "cells": [
  {
   "cell_type": "code",
   "execution_count": 25,
   "metadata": {
    "ExecuteTime": {
     "end_time": "2021-03-11T01:27:59.433379Z",
     "start_time": "2021-03-11T01:27:59.413250Z"
    }
   },
   "outputs": [],
   "source": [
    "import json\n",
    "import random\n",
    "\n",
    "ranks = ['a', 'b', 'c', 'd', 'e', 'f', 'g', 'h']\n",
    "files = ['1', '2', '3', '4', '5', '6', '7', '8']\n",
    "colors = [['Black', 'black', 'b', 'B'], ['White', 'white', 'w', 'W']]"
   ]
  },
  {
   "cell_type": "markdown",
   "metadata": {},
   "source": [
    "# Blind Chess Practice\n",
    "\n",
    "This was created on the 10th March 2020 for Vikrom Narula to practice blind chess.\n",
    "\n",
    "## Remember Board Position Colors"
   ]
  },
  {
   "cell_type": "code",
   "execution_count": 26,
   "metadata": {
    "ExecuteTime": {
     "end_time": "2021-03-11T01:27:59.827059Z",
     "start_time": "2021-03-11T01:27:59.820051Z"
    }
   },
   "outputs": [],
   "source": [
    "def isEven(num):\n",
    "    return num % 2 == 0\n",
    "\n",
    "\n",
    "def showAllPositionAsMap():\n",
    "    dictString = \"\"\n",
    "    dictString += '{\\n'\n",
    "    for idy, file in enumerate(files):\n",
    "        for idx, rank in enumerate(ranks):\n",
    "            if (isEven(idx)):\n",
    "                if (isEven(idy)):\n",
    "                    dictString += f' \"{rank}{file}\":\"{colors[0]}\",'\n",
    "                else:\n",
    "                    dictString += f' \"{rank}{file}\":\"{colors[1]}\",'\n",
    "            else:\n",
    "                if (isEven(idy)):\n",
    "                    dictString += f' \"{rank}{file}\":\"{colors[1]}\",'\n",
    "                else:\n",
    "                    dictString += f' \"{rank}{file}\":\"{colors[0]}\",'\n",
    "    dictString = dictString[:-1]  # Remove last comma\n",
    "    dictString += '\\n}'\n",
    "    return dictString"
   ]
  },
  {
   "cell_type": "code",
   "execution_count": 27,
   "metadata": {
    "ExecuteTime": {
     "end_time": "2021-03-11T01:28:00.037506Z",
     "start_time": "2021-03-11T01:28:00.028734Z"
    }
   },
   "outputs": [],
   "source": [
    "mapping = json.loads(showAllPositionAsMap())"
   ]
  },
  {
   "cell_type": "code",
   "execution_count": 28,
   "metadata": {
    "ExecuteTime": {
     "end_time": "2021-03-11T01:28:00.197218Z",
     "start_time": "2021-03-11T01:28:00.191313Z"
    }
   },
   "outputs": [],
   "source": [
    "def guessColor():\n",
    "    exits = ['exit', 'dc', 'Exit']\n",
    "    print('\\n===========Guess the Color==============')\n",
    "    position = random.choice(list(mapping.keys()))\n",
    "    guess = input(f'What color is the position {position}? \\n \\n => ')\n",
    "    if guess in exits:\n",
    "        print('\\nExisting...')\n",
    "        print('========================================')\n",
    "        return\n",
    "    if len(guess) == 5 or len(guess) == 1:\n",
    "        if guess in mapping[position]:\n",
    "            print(\"\\nCorrect Guess!!! Let's see if you get another one!\")\n",
    "            guessColor()\n",
    "        else:\n",
    "            print(\"\\nWrong Guess!!! Let's try again.\")\n",
    "            guessColor()\n",
    "    else:\n",
    "        print('Bad Data!!!')\n",
    "        guessColor()"
   ]
  },
  {
   "cell_type": "code",
   "execution_count": 29,
   "metadata": {
    "ExecuteTime": {
     "end_time": "2021-03-11T01:28:02.861906Z",
     "start_time": "2021-03-11T01:28:00.784415Z"
    }
   },
   "outputs": [
    {
     "name": "stdout",
     "output_type": "stream",
     "text": [
      "\n",
      "===========Guess the Color==============\n",
      "What color is the position h5? \n",
      " \n",
      " => dc\n",
      "\n",
      "Existing...\n",
      "========================================\n"
     ]
    }
   ],
   "source": [
    "guessColor()"
   ]
  },
  {
   "cell_type": "markdown",
   "metadata": {},
   "source": [
    "## Remember Board Position"
   ]
  },
  {
   "cell_type": "code",
   "execution_count": 75,
   "metadata": {
    "ExecuteTime": {
     "end_time": "2021-03-11T01:47:36.443238Z",
     "start_time": "2021-03-11T01:47:36.415547Z"
    }
   },
   "outputs": [],
   "source": [
    "def guessPosition():\n",
    "    exits = ['exit', 'dc', 'Exit']\n",
    "    board = [['0', '0', '0', '0', '0', '0', '0', '0'],\n",
    "             ['0', '0', '0', '0', '0', '0', '0', '0'],\n",
    "             ['0', '0', '0', '0', '0', '0', '0', '0'],\n",
    "             ['0', '0', '0', '0', '0', '0', '0', '0'],\n",
    "             ['0', '0', '0', '0', '0', '0', '0', '0'],\n",
    "             ['0', '0', '0', '0', '0', '0', '0', '0'],\n",
    "             ['0', '0', '0', '0', '0', '0', '0', '0'],\n",
    "             ['0', '0', '0', '0', '0', '0', '0', '0']]\n",
    "    randFile = random.randrange(len(board))\n",
    "    randRank = random.randrange(len(board))\n",
    "    board[randFile][randRank] = 'X'\n",
    "    flipFiles = files[::-1]\n",
    "    print('\\n===========Guess the Position==============')\n",
    "    print(f'What position is X on the board?\\n')\n",
    "    print(*board, sep='\\n')\n",
    "    guess = input('\\n => ')\n",
    "    answer = ranks[randRank] + flipFiles[randFile]\n",
    "    if guess in exits:\n",
    "        print('\\nExisting...')\n",
    "        print('============================================')\n",
    "        return\n",
    "    if len(guess) == 2 and guess[0] in ranks and guess[1] in files:\n",
    "        if guess == answer:\n",
    "            print(\"\\nCorrect Guess!!! Let's see if you get another one!\")\n",
    "            guessPosition()\n",
    "        else:\n",
    "            print(f\"\\nWrong Guess!!! Answer was {answer}. Let's try again.\")\n",
    "            guessPosition()\n",
    "    else:\n",
    "        print('Bad Data!!!')\n",
    "        guessPosition()"
   ]
  },
  {
   "cell_type": "code",
   "execution_count": 76,
   "metadata": {
    "ExecuteTime": {
     "end_time": "2021-03-11T01:48:05.066969Z",
     "start_time": "2021-03-11T01:47:37.113642Z"
    }
   },
   "outputs": [
    {
     "name": "stdout",
     "output_type": "stream",
     "text": [
      "\n",
      "===========Guess the Position==============\n",
      "What position is X on the board?\n",
      "\n",
      "['0', '0', '0', '0', '0', '0', '0', '0']\n",
      "['0', '0', '0', '0', '0', '0', '0', '0']\n",
      "['0', '0', '0', '0', '0', '0', '0', '0']\n",
      "['0', '0', '0', '0', '0', '0', '0', '0']\n",
      "['0', '0', '0', '0', '0', '0', '0', '0']\n",
      "['0', '0', '0', '0', '0', '0', '0', '0']\n",
      "['0', '0', '0', '0', '0', '0', '0', '0']\n",
      "['0', 'X', '0', '0', '0', '0', '0', '0']\n",
      "\n",
      " => AA\n",
      "Bad Data!!!\n",
      "\n",
      "===========Guess the Position==============\n",
      "What position is X on the board?\n",
      "\n",
      "['0', '0', '0', '0', '0', '0', '0', '0']\n",
      "['0', '0', '0', '0', '0', '0', '0', '0']\n",
      "['0', '0', '0', '0', '0', '0', '0', '0']\n",
      "['0', '0', '0', '0', '0', '0', '0', '0']\n",
      "['0', '0', '0', '0', '0', '0', '0', 'X']\n",
      "['0', '0', '0', '0', '0', '0', '0', '0']\n",
      "['0', '0', '0', '0', '0', '0', '0', '0']\n",
      "['0', '0', '0', '0', '0', '0', '0', '0']\n",
      "\n",
      " => h4\n",
      "\n",
      "Correct Guess!!! Let's see if you get another one!\n",
      "\n",
      "===========Guess the Position==============\n",
      "What position is X on the board?\n",
      "\n",
      "['0', '0', '0', '0', '0', '0', '0', '0']\n",
      "['0', '0', '0', '0', '0', '0', '0', '0']\n",
      "['0', '0', '0', '0', '0', '0', '0', '0']\n",
      "['0', '0', '0', '0', '0', '0', '0', '0']\n",
      "['0', '0', '0', '0', '0', '0', '0', '0']\n",
      "['X', '0', '0', '0', '0', '0', '0', '0']\n",
      "['0', '0', '0', '0', '0', '0', '0', '0']\n",
      "['0', '0', '0', '0', '0', '0', '0', '0']\n",
      "\n",
      " => dc\n",
      "\n",
      "Existing...\n",
      "============================================\n"
     ]
    }
   ],
   "source": [
    "guessPosition()"
   ]
  }
 ],
 "metadata": {
  "kernelspec": {
   "display_name": "Python 3",
   "language": "python",
   "name": "python3"
  },
  "language_info": {
   "codemirror_mode": {
    "name": "ipython",
    "version": 3
   },
   "file_extension": ".py",
   "mimetype": "text/x-python",
   "name": "python",
   "nbconvert_exporter": "python",
   "pygments_lexer": "ipython3",
   "version": "3.8.6"
  },
  "toc": {
   "base_numbering": 1,
   "nav_menu": {},
   "number_sections": true,
   "sideBar": true,
   "skip_h1_title": false,
   "title_cell": "Table of Contents",
   "title_sidebar": "Contents",
   "toc_cell": false,
   "toc_position": {},
   "toc_section_display": true,
   "toc_window_display": false
  },
  "varInspector": {
   "cols": {
    "lenName": 16,
    "lenType": 16,
    "lenVar": 40
   },
   "kernels_config": {
    "python": {
     "delete_cmd_postfix": "",
     "delete_cmd_prefix": "del ",
     "library": "var_list.py",
     "varRefreshCmd": "print(var_dic_list())"
    },
    "r": {
     "delete_cmd_postfix": ") ",
     "delete_cmd_prefix": "rm(",
     "library": "var_list.r",
     "varRefreshCmd": "cat(var_dic_list()) "
    }
   },
   "types_to_exclude": [
    "module",
    "function",
    "builtin_function_or_method",
    "instance",
    "_Feature"
   ],
   "window_display": false
  }
 },
 "nbformat": 4,
 "nbformat_minor": 4
}
