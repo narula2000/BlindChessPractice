{
 "cells": [
  {
   "cell_type": "code",
   "execution_count": 7,
   "metadata": {
    "ExecuteTime": {
     "end_time": "2021-03-10T13:35:49.964101Z",
     "start_time": "2021-03-10T13:35:49.957595Z"
    }
   },
   "outputs": [],
   "source": [
    "def isEven(num):\n",
    "    return num % 2 == 0"
   ]
  },
  {
   "cell_type": "markdown",
   "metadata": {},
   "source": [
    "# Blind Chess Practice\n",
    "\n",
    "This was created on the 10th March 2020 for Vikrom Narula to practice blind chess.\n",
    "\n",
    "## Remember Chess Position Colors"
   ]
  },
  {
   "cell_type": "code",
   "execution_count": 16,
   "metadata": {
    "ExecuteTime": {
     "end_time": "2021-03-10T13:43:49.479621Z",
     "start_time": "2021-03-10T13:43:49.456210Z"
    }
   },
   "outputs": [],
   "source": [
    "def showAllPositionAsMap():\n",
    "    ranks = ['a', 'b', 'c', 'd', 'e', 'f', 'g', 'h']\n",
    "    files = ['1', '2', '3', '4', '5', '6', '7', '8']\n",
    "    colors = ['Black', 'White']\n",
    "    print('{')\n",
    "    for idy, file in enumerate(files):\n",
    "        for idx, rank in enumerate(ranks):\n",
    "            if (isEven(idx)):\n",
    "                if (isEven(idy)):\n",
    "                    print(f'\\t{rank}{file}:{colors[0]},')\n",
    "                else:\n",
    "                    print(f'\\t{rank}{file}:{colors[1]},')\n",
    "            else:\n",
    "                if (isEven(idy)):\n",
    "                    print(f'\\t{rank}{file}:{colors[1]},')\n",
    "                else:\n",
    "                    print(f'\\t{rank}{file}:{colors[0]},')\n",
    "    print('}')\n",
    "\n",
    "\n",
    "def showAllPosition():\n",
    "    ranks = ['a', 'b', 'c', 'd', 'e', 'f', 'g', 'h']\n",
    "    files = ['1', '2', '3', '4', '5', '6', '7', '8']\n",
    "    colors = ['Black', 'White']\n",
    "    for idy, file in enumerate(files):\n",
    "        for idx, rank in enumerate(ranks):\n",
    "            if (isEven(idx)):\n",
    "                if (isEven(idy)):\n",
    "                    print(f'Rank = {rank}, File = {file}, Color = {colors[0]}')\n",
    "                else:\n",
    "                    print(f'Rank = {rank}, File = {file}, Color = {colors[1]}')\n",
    "            else:\n",
    "                if (isEven(idy)):\n",
    "                    print(f'Rank = {rank}, File = {file}, Color = {colors[1]}')\n",
    "                else:\n",
    "                    print(f'Rank = {rank}, File = {file}, Color = {colors[0]}')"
   ]
  },
  {
   "cell_type": "code",
   "execution_count": 17,
   "metadata": {
    "ExecuteTime": {
     "end_time": "2021-03-10T13:43:51.579151Z",
     "start_time": "2021-03-10T13:43:51.552943Z"
    }
   },
   "outputs": [
    {
     "name": "stdout",
     "output_type": "stream",
     "text": [
      "{\n",
      "\ta1:Black,\n",
      "\tb1:White,\n",
      "\tc1:Black,\n",
      "\td1:White,\n",
      "\te1:Black,\n",
      "\tf1:White,\n",
      "\tg1:Black,\n",
      "\th1:White,\n",
      "\ta2:White,\n",
      "\tb2:Black,\n",
      "\tc2:White,\n",
      "\td2:Black,\n",
      "\te2:White,\n",
      "\tf2:Black,\n",
      "\tg2:White,\n",
      "\th2:Black,\n",
      "\ta3:Black,\n",
      "\tb3:White,\n",
      "\tc3:Black,\n",
      "\td3:White,\n",
      "\te3:Black,\n",
      "\tf3:White,\n",
      "\tg3:Black,\n",
      "\th3:White,\n",
      "\ta4:White,\n",
      "\tb4:Black,\n",
      "\tc4:White,\n",
      "\td4:Black,\n",
      "\te4:White,\n",
      "\tf4:Black,\n",
      "\tg4:White,\n",
      "\th4:Black,\n",
      "\ta5:Black,\n",
      "\tb5:White,\n",
      "\tc5:Black,\n",
      "\td5:White,\n",
      "\te5:Black,\n",
      "\tf5:White,\n",
      "\tg5:Black,\n",
      "\th5:White,\n",
      "\ta6:White,\n",
      "\tb6:Black,\n",
      "\tc6:White,\n",
      "\td6:Black,\n",
      "\te6:White,\n",
      "\tf6:Black,\n",
      "\tg6:White,\n",
      "\th6:Black,\n",
      "\ta7:Black,\n",
      "\tb7:White,\n",
      "\tc7:Black,\n",
      "\td7:White,\n",
      "\te7:Black,\n",
      "\tf7:White,\n",
      "\tg7:Black,\n",
      "\th7:White,\n",
      "\ta8:White,\n",
      "\tb8:Black,\n",
      "\tc8:White,\n",
      "\td8:Black,\n",
      "\te8:White,\n",
      "\tf8:Black,\n",
      "\tg8:White,\n",
      "\th8:Black,\n",
      "}\n"
     ]
    }
   ],
   "source": [
    "showAllPositionAsMap()"
   ]
  },
  {
   "cell_type": "code",
   "execution_count": null,
   "metadata": {},
   "outputs": [],
   "source": []
  }
 ],
 "metadata": {
  "kernelspec": {
   "display_name": "Python 3",
   "language": "python",
   "name": "python3"
  },
  "language_info": {
   "codemirror_mode": {
    "name": "ipython",
    "version": 3
   },
   "file_extension": ".py",
   "mimetype": "text/x-python",
   "name": "python",
   "nbconvert_exporter": "python",
   "pygments_lexer": "ipython3",
   "version": "3.8.6"
  },
  "toc": {
   "base_numbering": 1,
   "nav_menu": {},
   "number_sections": true,
   "sideBar": true,
   "skip_h1_title": false,
   "title_cell": "Table of Contents",
   "title_sidebar": "Contents",
   "toc_cell": false,
   "toc_position": {},
   "toc_section_display": true,
   "toc_window_display": false
  },
  "varInspector": {
   "cols": {
    "lenName": 16,
    "lenType": 16,
    "lenVar": 40
   },
   "kernels_config": {
    "python": {
     "delete_cmd_postfix": "",
     "delete_cmd_prefix": "del ",
     "library": "var_list.py",
     "varRefreshCmd": "print(var_dic_list())"
    },
    "r": {
     "delete_cmd_postfix": ") ",
     "delete_cmd_prefix": "rm(",
     "library": "var_list.r",
     "varRefreshCmd": "cat(var_dic_list()) "
    }
   },
   "types_to_exclude": [
    "module",
    "function",
    "builtin_function_or_method",
    "instance",
    "_Feature"
   ],
   "window_display": false
  }
 },
 "nbformat": 4,
 "nbformat_minor": 4
}
