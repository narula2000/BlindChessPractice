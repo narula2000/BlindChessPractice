{
 "cells": [
  {
   "cell_type": "code",
   "execution_count": 7,
   "metadata": {
    "ExecuteTime": {
     "end_time": "2021-03-10T13:35:49.964101Z",
     "start_time": "2021-03-10T13:35:49.957595Z"
    }
   },
   "outputs": [],
   "source": [
    "def isEven(num):\n",
    "    return num % 2 == 0"
   ]
  },
  {
   "cell_type": "markdown",
   "metadata": {},
   "source": [
    "# Blind Chess Practice\n",
    "\n",
    "This was created on the 10th March 2020 for Vikrom Narula to practice blind chess.\n",
    "\n",
    "## Remember Chess Position Colors"
   ]
  },
  {
   "cell_type": "code",
   "execution_count": 8,
   "metadata": {
    "ExecuteTime": {
     "end_time": "2021-03-10T13:35:50.726059Z",
     "start_time": "2021-03-10T13:35:50.701513Z"
    }
   },
   "outputs": [
    {
     "name": "stdout",
     "output_type": "stream",
     "text": [
      "Rank = a, File = 1, Color = Black\n",
      "Rank = b, File = 1, Color = White\n",
      "Rank = c, File = 1, Color = Black\n",
      "Rank = d, File = 1, Color = White\n",
      "Rank = e, File = 1, Color = Black\n",
      "Rank = f, File = 1, Color = White\n",
      "Rank = g, File = 1, Color = Black\n",
      "Rank = h, File = 1, Color = White\n",
      "Rank = a, File = 2, Color = White\n",
      "Rank = b, File = 2, Color = Black\n",
      "Rank = c, File = 2, Color = White\n",
      "Rank = d, File = 2, Color = Black\n",
      "Rank = e, File = 2, Color = White\n",
      "Rank = f, File = 2, Color = Black\n",
      "Rank = g, File = 2, Color = White\n",
      "Rank = h, File = 2, Color = Black\n",
      "Rank = a, File = 3, Color = Black\n",
      "Rank = b, File = 3, Color = White\n",
      "Rank = c, File = 3, Color = Black\n",
      "Rank = d, File = 3, Color = White\n",
      "Rank = e, File = 3, Color = Black\n",
      "Rank = f, File = 3, Color = White\n",
      "Rank = g, File = 3, Color = Black\n",
      "Rank = h, File = 3, Color = White\n",
      "Rank = a, File = 4, Color = White\n",
      "Rank = b, File = 4, Color = Black\n",
      "Rank = c, File = 4, Color = White\n",
      "Rank = d, File = 4, Color = Black\n",
      "Rank = e, File = 4, Color = White\n",
      "Rank = f, File = 4, Color = Black\n",
      "Rank = g, File = 4, Color = White\n",
      "Rank = h, File = 4, Color = Black\n",
      "Rank = a, File = 5, Color = Black\n",
      "Rank = b, File = 5, Color = White\n",
      "Rank = c, File = 5, Color = Black\n",
      "Rank = d, File = 5, Color = White\n",
      "Rank = e, File = 5, Color = Black\n",
      "Rank = f, File = 5, Color = White\n",
      "Rank = g, File = 5, Color = Black\n",
      "Rank = h, File = 5, Color = White\n",
      "Rank = a, File = 6, Color = White\n",
      "Rank = b, File = 6, Color = Black\n",
      "Rank = c, File = 6, Color = White\n",
      "Rank = d, File = 6, Color = Black\n",
      "Rank = e, File = 6, Color = White\n",
      "Rank = f, File = 6, Color = Black\n",
      "Rank = g, File = 6, Color = White\n",
      "Rank = h, File = 6, Color = Black\n",
      "Rank = a, File = 7, Color = Black\n",
      "Rank = b, File = 7, Color = White\n",
      "Rank = c, File = 7, Color = Black\n",
      "Rank = d, File = 7, Color = White\n",
      "Rank = e, File = 7, Color = Black\n",
      "Rank = f, File = 7, Color = White\n",
      "Rank = g, File = 7, Color = Black\n",
      "Rank = h, File = 7, Color = White\n",
      "Rank = a, File = 8, Color = White\n",
      "Rank = b, File = 8, Color = Black\n",
      "Rank = c, File = 8, Color = White\n",
      "Rank = d, File = 8, Color = Black\n",
      "Rank = e, File = 8, Color = White\n",
      "Rank = f, File = 8, Color = Black\n",
      "Rank = g, File = 8, Color = White\n",
      "Rank = h, File = 8, Color = Black\n"
     ]
    }
   ],
   "source": [
    "ranks = ['a', 'b', 'c', 'd', 'e', 'f', 'g', 'h']\n",
    "files = ['1', '2', '3', '4', '5', '6', '7', '8']\n",
    "colors = ['Black', 'White']\n",
    "\n",
    "for idy, file in enumerate(files):\n",
    "    for idx, rank in enumerate(ranks):\n",
    "        if (isEven(idx)):\n",
    "            if (isEven(idy)):\n",
    "                print(f'Rank = {rank}, File = {file}, Color = {colors[0]}')\n",
    "            else:\n",
    "                print(f'Rank = {rank}, File = {file}, Color = {colors[1]}')\n",
    "        else:\n",
    "            if (isEven(idy)):\n",
    "                print(f'Rank = {rank}, File = {file}, Color = {colors[1]}')\n",
    "            else:\n",
    "                print(f'Rank = {rank}, File = {file}, Color = {colors[0]}')"
   ]
  },
  {
   "cell_type": "code",
   "execution_count": null,
   "metadata": {},
   "outputs": [],
   "source": []
  }
 ],
 "metadata": {
  "kernelspec": {
   "display_name": "Python 3",
   "language": "python",
   "name": "python3"
  },
  "language_info": {
   "codemirror_mode": {
    "name": "ipython",
    "version": 3
   },
   "file_extension": ".py",
   "mimetype": "text/x-python",
   "name": "python",
   "nbconvert_exporter": "python",
   "pygments_lexer": "ipython3",
   "version": "3.8.6"
  },
  "toc": {
   "base_numbering": 1,
   "nav_menu": {},
   "number_sections": true,
   "sideBar": true,
   "skip_h1_title": false,
   "title_cell": "Table of Contents",
   "title_sidebar": "Contents",
   "toc_cell": false,
   "toc_position": {},
   "toc_section_display": true,
   "toc_window_display": false
  },
  "varInspector": {
   "cols": {
    "lenName": 16,
    "lenType": 16,
    "lenVar": 40
   },
   "kernels_config": {
    "python": {
     "delete_cmd_postfix": "",
     "delete_cmd_prefix": "del ",
     "library": "var_list.py",
     "varRefreshCmd": "print(var_dic_list())"
    },
    "r": {
     "delete_cmd_postfix": ") ",
     "delete_cmd_prefix": "rm(",
     "library": "var_list.r",
     "varRefreshCmd": "cat(var_dic_list()) "
    }
   },
   "types_to_exclude": [
    "module",
    "function",
    "builtin_function_or_method",
    "instance",
    "_Feature"
   ],
   "window_display": false
  }
 },
 "nbformat": 4,
 "nbformat_minor": 4
}
